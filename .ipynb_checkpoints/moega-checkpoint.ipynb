{
 "cells": [
  {
   "cell_type": "code",
   "execution_count": 1,
   "id": "e23908fe-85ec-4431-992d-35a8f63156d5",
   "metadata": {},
   "outputs": [],
   "source": [
    "import numpy as np\n",
    "from pymoo.core.problem import ElementwiseProblem\n",
    "from pymoo.algorithms.moo.moead import MOEAD\n",
    "from pymoo.operators.crossover.sbx import SBX\n",
    "from pymoo.operators.mutation.pm import PM\n",
    "from pymoo.operators.sampling.rnd import FloatRandomSampling\n",
    "from pymoo.optimize import minimize\n",
    "from pymoo.visualization.scatter import Scatter\n"
   ]
  },
  {
   "cell_type": "code",
   "execution_count": 2,
   "id": "c653e151-afb8-4dfb-a285-fd88700a026f",
   "metadata": {},
   "outputs": [],
   "source": [
    "# Problem parameters\n",
    "N = 5  # Number of PEVGs\n",
    "C = 99  # Grid capacity (MWh)\n",
    "b_n = np.random.uniform(35, 65, N)  # Battery capacities\n",
    "s_n = np.random.uniform(1, 2, N)    # Satisfaction parameters"
   ]
  },
  {
   "cell_type": "code",
   "execution_count": 3,
   "id": "2705dd5c-cfea-4b2a-be26-082509b2e781",
   "metadata": {},
   "outputs": [],
   "source": [
    "# Define the multi-objective problem\n",
    "class EVChargingProblem(ElementwiseProblem):\n",
    "    def __init__(self):\n",
    "        super().__init__(\n",
    "            n_var=N + 1,  # p + x_1, x_2, ..., x_N\n",
    "            n_obj=2,       # Two objectives: SG revenue and PEVG utility\n",
    "            n_constr=0,    # One constraint: sum(x_n) <= C\n",
    "            xl=np.array([0] + [0] * N),  # Lower bounds: p >= 0, x_n >= 0\n",
    "            xu=np.array([50] + [C] * N)  # Upper bounds: p <= 50, x_n <= C\n",
    "        )\n",
    "\n",
    "    def _evaluate(self, X, out, *args, **kwargs):\n",
    "        p = X[0]  # Price\n",
    "        x = X[1:]  # Demands\n",
    "\n",
    "        # Objective 1: SG revenue (maximize)\n",
    "        f1 = p * np.sum(x)\n",
    "\n",
    "        # Objective 2: PEVG total utility (maximize)\n",
    "        f2 = np.sum(b_n * x - 0.5 * s_n * x**2 - p * x)\n",
    "\n",
    "        # Constraint: sum(x_n) <= C (g(x) <= 0)\n",
    "        g1 = np.sum(x) - C\n",
    "\n",
    "        # MOEA/D minimizes, so negate objectives to maximize\n",
    "        out[\"F\"] = [-f1, -f2]\n",
    "        out[\"G\"] = []"
   ]
  },
  {
   "cell_type": "code",
   "execution_count": 4,
   "id": "2c72aeed-3bab-4dc1-812a-fd8cdca533b8",
   "metadata": {},
   "outputs": [],
   "source": [
    "# Initialize MOEA/D algorithm\n",
    "algorithm = MOEAD(\n",
    "    ref_dirs=np.array([[1.0, 0.0], [0.75, 0.25], [0.5, 0.5], [0.25, 0.75], [0.0, 1.0]]),  # Weight vectors\n",
    "    n_neighbors=5,  # Neighborhood size\n",
    "    prob_neighbor=0.9,  # Probability of using neighbors\n",
    "    sampling=FloatRandomSampling(),\n",
    "    crossover=SBX(prob=0.9, eta=15),\n",
    "    mutation=PM(eta=20)\n",
    ")"
   ]
  },
  {
   "cell_type": "code",
   "execution_count": 5,
   "id": "a731a2ed-81f1-4bec-a9ce-b866cfe14100",
   "metadata": {},
   "outputs": [],
   "source": [
    "# Define the problem\n",
    "problem = EVChargingProblem()"
   ]
  },
  {
   "cell_type": "code",
   "execution_count": 6,
   "id": "8d9ac125-d8ae-4393-a5f7-c935c2c4a9c6",
   "metadata": {},
   "outputs": [
    {
     "ename": "AssertionError",
     "evalue": "This implementation of MOEAD does not support any constraints.",
     "output_type": "error",
     "traceback": [
      "\u001b[1;31m---------------------------------------------------------------------------\u001b[0m",
      "\u001b[1;31mAssertionError\u001b[0m                            Traceback (most recent call last)",
      "Cell \u001b[1;32mIn[6], line 2\u001b[0m\n\u001b[0;32m      1\u001b[0m \u001b[38;5;66;03m# Run optimization\u001b[39;00m\n\u001b[1;32m----> 2\u001b[0m res \u001b[38;5;241m=\u001b[39m minimize(\n\u001b[0;32m      3\u001b[0m     problem,\n\u001b[0;32m      4\u001b[0m     algorithm,\n\u001b[0;32m      5\u001b[0m     (\u001b[38;5;124m'\u001b[39m\u001b[38;5;124mn_gen\u001b[39m\u001b[38;5;124m'\u001b[39m, \u001b[38;5;241m200\u001b[39m),  \u001b[38;5;66;03m# Number of generations\u001b[39;00m\n\u001b[0;32m      6\u001b[0m     seed\u001b[38;5;241m=\u001b[39m\u001b[38;5;241m1\u001b[39m,\n\u001b[0;32m      7\u001b[0m     verbose\u001b[38;5;241m=\u001b[39m\u001b[38;5;28;01mTrue\u001b[39;00m\n\u001b[0;32m      8\u001b[0m )\n",
      "File \u001b[1;32m~\\anaconda3\\Lib\\site-packages\\pymoo\\optimize.py:64\u001b[0m, in \u001b[0;36mminimize\u001b[1;34m(problem, algorithm, termination, copy_algorithm, copy_termination, **kwargs)\u001b[0m\n\u001b[0;32m     60\u001b[0m             termination \u001b[38;5;241m=\u001b[39m copy\u001b[38;5;241m.\u001b[39mdeepcopy(termination)\n\u001b[0;32m     62\u001b[0m         kwargs[\u001b[38;5;124m\"\u001b[39m\u001b[38;5;124mtermination\u001b[39m\u001b[38;5;124m\"\u001b[39m] \u001b[38;5;241m=\u001b[39m termination\n\u001b[1;32m---> 64\u001b[0m     algorithm\u001b[38;5;241m.\u001b[39msetup(problem, \u001b[38;5;241m*\u001b[39m\u001b[38;5;241m*\u001b[39mkwargs)\n\u001b[0;32m     66\u001b[0m \u001b[38;5;66;03m# actually execute the algorithm\u001b[39;00m\n\u001b[0;32m     67\u001b[0m res \u001b[38;5;241m=\u001b[39m algorithm\u001b[38;5;241m.\u001b[39mrun()\n",
      "File \u001b[1;32m~\\anaconda3\\Lib\\site-packages\\pymoo\\core\\algorithm.py:132\u001b[0m, in \u001b[0;36mAlgorithm.setup\u001b[1;34m(self, problem, **kwargs)\u001b[0m\n\u001b[0;32m    129\u001b[0m     \u001b[38;5;28mself\u001b[39m\u001b[38;5;241m.\u001b[39mdisplay \u001b[38;5;241m=\u001b[39m Display(\u001b[38;5;28mself\u001b[39m\u001b[38;5;241m.\u001b[39moutput, verbose\u001b[38;5;241m=\u001b[39mverbose, progress\u001b[38;5;241m=\u001b[39mprogress)\n\u001b[0;32m    131\u001b[0m \u001b[38;5;66;03m# finally call the function that can be overwritten by the actual algorithm\u001b[39;00m\n\u001b[1;32m--> 132\u001b[0m \u001b[38;5;28mself\u001b[39m\u001b[38;5;241m.\u001b[39m_setup(problem, \u001b[38;5;241m*\u001b[39m\u001b[38;5;241m*\u001b[39mkwargs)\n\u001b[0;32m    134\u001b[0m \u001b[38;5;28;01mreturn\u001b[39;00m \u001b[38;5;28mself\u001b[39m\n",
      "File \u001b[1;32m~\\anaconda3\\Lib\\site-packages\\pymoo\\algorithms\\moo\\moead.py:79\u001b[0m, in \u001b[0;36mMOEAD._setup\u001b[1;34m(self, problem, **kwargs)\u001b[0m\n\u001b[0;32m     78\u001b[0m \u001b[38;5;28;01mdef\u001b[39;00m \u001b[38;5;21m_setup\u001b[39m(\u001b[38;5;28mself\u001b[39m, problem, \u001b[38;5;241m*\u001b[39m\u001b[38;5;241m*\u001b[39mkwargs):\n\u001b[1;32m---> 79\u001b[0m     \u001b[38;5;28;01massert\u001b[39;00m \u001b[38;5;129;01mnot\u001b[39;00m problem\u001b[38;5;241m.\u001b[39mhas_constraints(), \u001b[38;5;124m\"\u001b[39m\u001b[38;5;124mThis implementation of MOEAD does not support any constraints.\u001b[39m\u001b[38;5;124m\"\u001b[39m\n\u001b[0;32m     81\u001b[0m     \u001b[38;5;66;03m# if no reference directions have been provided get them and override the population size and other settings\u001b[39;00m\n\u001b[0;32m     82\u001b[0m     \u001b[38;5;28;01mif\u001b[39;00m \u001b[38;5;28mself\u001b[39m\u001b[38;5;241m.\u001b[39mref_dirs \u001b[38;5;129;01mis\u001b[39;00m \u001b[38;5;28;01mNone\u001b[39;00m:\n",
      "\u001b[1;31mAssertionError\u001b[0m: This implementation of MOEAD does not support any constraints."
     ]
    }
   ],
   "source": [
    "# Run optimization\n",
    "res = minimize(\n",
    "    problem,\n",
    "    algorithm,\n",
    "    ('n_gen', 200),  # Number of generations\n",
    "    seed=1,\n",
    "    verbose=True\n",
    ")"
   ]
  },
  {
   "cell_type": "code",
   "execution_count": null,
   "id": "edd296fd-8649-4b87-ac95-8384fe3b8543",
   "metadata": {},
   "outputs": [],
   "source": []
  },
  {
   "cell_type": "code",
   "execution_count": null,
   "id": "0e5a4292-5409-457c-937a-27af8ce3d75a",
   "metadata": {},
   "outputs": [],
   "source": []
  },
  {
   "cell_type": "code",
   "execution_count": null,
   "id": "373ab323-a7b3-4daf-b1b8-9da359bbc69d",
   "metadata": {},
   "outputs": [],
   "source": []
  },
  {
   "cell_type": "code",
   "execution_count": null,
   "id": "33c5f5be-cda0-4f90-ac99-942d39184289",
   "metadata": {},
   "outputs": [],
   "source": [
    "\n",
    "\n",
    "\n",
    "\n",
    "\n",
    "# Extract results\n",
    "X = res.X  # Decision variables (p, x_1, ..., x_N)\n",
    "F = res.F  # Objective values (negated: -f1, -f2)\n",
    "F = -F  # Convert back to maximized form\n",
    "\n",
    "# Print solutions\n",
    "print(\"Pareto-optimal solutions:\")\n",
    "for i in range(len(X)):\n",
    "    p = X[i][0]\n",
    "    x = X[i][1:]\n",
    "    sg_revenue = F[i][0]\n",
    "    pevg_utility = F[i][1]\n",
    "    total_demand = np.sum(x)\n",
    "    print(f\"Solution {i+1}:\")\n",
    "    print(f\"  Price (p) = {p:.2f} USD/MWh\")\n",
    "    print(f\"  Demands (x_n) = {x}\")\n",
    "    print(f\"  SG Revenue = {sg_revenue:.2f}\")\n",
    "    print(f\"  PEVG Total Utility = {pevg_utility:.2f}\")\n",
    "    print(f\"  Total Demand = {total_demand:.2f} MWh (Constraint: <= {C})\")\n",
    "    print()\n",
    "\n",
    "# Post-process to approximate GSE\n",
    "# GSE: p* = min(b_n - s_n x_n^*)\n",
    "for i in range(len(X)):\n",
    "    x = X[i][1:]\n",
    "    p_star = np.min(b_n - s_n * x)\n",
    "    sg_revenue_star = p_star * np.sum(x)\n",
    "    pevg_utility_star = np.sum(b_n * x - 0.5 * s_n * x**2 - p_star * x)\n",
    "    if sg_revenue_star >= 0 and pevg_utility_star >= 0:  # Ensure feasible\n",
    "        print(f\"GSE Approximation for Solution {i+1}:\")\n",
    "        print(f\"  Adjusted Price (p*) = {p_star:.2f} USD/MWh\")\n",
    "        print(f\"  SG Revenue = {sg_revenue_star:.2f}\")\n",
    "        print(f\"  PEVG Total Utility = {pevg_utility_star:.2f}\")\n",
    "        print()\n",
    "\n",
    "# Visualize Pareto front\n",
    "plot = Scatter()\n",
    "plot.add(F, label=\"Pareto Front\")\n",
    "plot.show()"
   ]
  }
 ],
 "metadata": {
  "kernelspec": {
   "display_name": "Python 3 (ipykernel)",
   "language": "python",
   "name": "python3"
  },
  "language_info": {
   "codemirror_mode": {
    "name": "ipython",
    "version": 3
   },
   "file_extension": ".py",
   "mimetype": "text/x-python",
   "name": "python",
   "nbconvert_exporter": "python",
   "pygments_lexer": "ipython3",
   "version": "3.12.4"
  }
 },
 "nbformat": 4,
 "nbformat_minor": 5
}
