{
 "cells": [
  {
   "cell_type": "code",
   "execution_count": 16,
   "id": "fa4c9e8e-8012-4b22-a570-8d3b4dc355af",
   "metadata": {},
   "outputs": [],
   "source": [
    "import numpy as np\n",
    "import matplotlib.pyplot as plt\n",
    "from pymoo.core.problem import ElementwiseProblem\n",
    "from pymoo.algorithms.moo.nsga2 import NSGA2\n",
    "from pymoo.optimize import minimize\n",
    "from pymoo.visualization.scatter import Scatter"
   ]
  },
  {
   "cell_type": "code",
   "execution_count": 17,
   "id": "21d96430-dfaa-403c-813c-ba77b2a8ac64",
   "metadata": {},
   "outputs": [],
   "source": [
    "import random"
   ]
  },
  {
   "cell_type": "code",
   "execution_count": 18,
   "id": "9d8636d4-0f4c-485d-a1a6-69fdcc4ba1af",
   "metadata": {},
   "outputs": [],
   "source": [
    "# b_n = np.array([50, 60, 40, 55, 45])  # Battery capacities (MWh)\n",
    "# s_n = np.array([1, 1.2, 1.5, 1.1, 1.3])  # Satisfaction parameters"
   ]
  },
  {
   "cell_type": "code",
   "execution_count": null,
   "id": "2ccce6b3-169b-4371-9c6e-8488f3bde5ea",
   "metadata": {},
   "outputs": [],
   "source": []
  },
  {
   "cell_type": "code",
   "execution_count": 19,
   "id": "6555ffd9-ce2e-45f8-9c90-698144c45793",
   "metadata": {},
   "outputs": [],
   "source": [
    "# Problem-specific parameters\n",
    "N = 5  # Number of PEVGs\n",
    "C = 99  # Grid capacity (MWh)\n",
    "\n",
    "b_n = [] # Battery capacities (MWh)\n",
    "s_n = [] # Satisfaction parameters\n",
    "\n",
    "for i in range(N):\n",
    "    b_n.append( random.randint(35 , 65) )\n",
    "    s_n.append( random.uniform(1,2) )\n",
    "\n",
    "b_n = np.array(b_n)\n",
    "s_n = np.array(s_n)\n",
    "    "
   ]
  },
  {
   "cell_type": "code",
   "execution_count": 20,
   "id": "3bca9359-730c-4f1b-8906-d47e053ffe02",
   "metadata": {},
   "outputs": [
    {
     "name": "stdout",
     "output_type": "stream",
     "text": [
      "[55 58 42 38 63]\n",
      "[1.11133107 1.27502932 1.13953793 1.67669949 1.54536653]\n"
     ]
    }
   ],
   "source": [
    "print(b_n)\n",
    "print(s_n)"
   ]
  },
  {
   "cell_type": "code",
   "execution_count": 21,
   "id": "42609ba3-8519-452a-a90b-c29a346a54b0",
   "metadata": {},
   "outputs": [],
   "source": [
    "# Define the MOO problem\n",
    "class EVChargingProblem(ElementwiseProblem):\n",
    "    def __init__(self):\n",
    "        # Define variables: p (1) + x_n (N), 3 objectives, 1 constraint\n",
    "        super().__init__(n_var=N + 1,  # p + x_1, ..., x_N\n",
    "                         n_obj=2,      # Revenue, Utility, -Wastage\n",
    "                         n_constr=1,   # Total demand <= C\n",
    "                         xl=np.array([20] + [0] * N),  # Lower bounds: p >= 0, x_n >= 0\n",
    "                         xu=np.array( [50] + [ min( b_n[i], C) for i in range(N) ] ))  # Upper bounds: p <= max(b_n), x_n <= b_n\n",
    "\n",
    "    def _evaluate(self, X, out, *args, **kwargs):\n",
    "        # Extract variables\n",
    "        p = X[0]  # Price\n",
    "        x_n = X[1:]  # Demands\n",
    "\n",
    "        # Objective 1: Maximize revenue (h_1)\n",
    "        revenue = p * np.sum(x_n)\n",
    "        \n",
    "        # Objective 2: Maximize aggregate utility (h_2)\n",
    "        utility = np.sum(b_n * x_n - 0.5 * s_n * x_n**2 - p * x_n)\n",
    "        \n",
    "        # Objective 3: Minimize wastage (converted to maximize -h_3)\n",
    "        wastage = C - np.sum(x_n)\n",
    "        \n",
    "        # Objectives (pymoo minimizes, so negate maximizations)\n",
    "        out[\"F\"] = [-revenue, -utility]  # Minimize [-h_1, -h_2]\n",
    "        # wastage\n",
    "        \n",
    "        # Constraint: sum(x_n) <= C ( Converted to g(x) <= 0 )\n",
    "        out[\"G\"] = [-wastage]"
   ]
  },
  {
   "cell_type": "code",
   "execution_count": 22,
   "id": "3a26cdcf-a0ad-49f9-93ac-4296e7daae9a",
   "metadata": {},
   "outputs": [],
   "source": [
    "# Initialize NSGA-II algorithm\n",
    "algorithm = NSGA2(\n",
    "    pop_size=100,  # Population size\n",
    "    n_offsprings=50,  # Number of offspring per generation\n",
    "    eliminate_duplicates=True\n",
    ")"
   ]
  },
  {
   "cell_type": "code",
   "execution_count": 23,
   "id": "9d72a987-023d-4405-b74d-ad212aed0c63",
   "metadata": {},
   "outputs": [],
   "source": [
    "\n",
    "# Define termination criteria (e.g., 200 generations)\n",
    "from pymoo.termination import get_termination\n",
    "termination = get_termination(\"n_gen\", 200)"
   ]
  },
  {
   "cell_type": "code",
   "execution_count": 24,
   "id": "00af6dcf-f610-4f6d-ac2b-506863b41977",
   "metadata": {},
   "outputs": [],
   "source": [
    "# Solve the problem\n",
    "res = minimize(EVChargingProblem(),\n",
    "               algorithm,\n",
    "               termination,\n",
    "               seed=42,\n",
    "               verbose=False)"
   ]
  },
  {
   "cell_type": "code",
   "execution_count": 25,
   "id": "166bd985-732e-470b-9c3b-649b67bb2346",
   "metadata": {},
   "outputs": [],
   "source": [
    "# Extract results\n",
    "X = res.X  # Decision variables (p, x_1, ..., x_N)\n",
    "# X"
   ]
  },
  {
   "cell_type": "code",
   "execution_count": 26,
   "id": "53b94bb1-3939-4f58-b699-bbeeebc8cdcd",
   "metadata": {
    "scrolled": true
   },
   "outputs": [],
   "source": [
    "F = res.F  # Objective values (negated revenue, negated utility, wastage)\n",
    "# F"
   ]
  },
  {
   "cell_type": "code",
   "execution_count": 27,
   "id": "2eb13b60-1248-4833-b24a-cb5f5abb8954",
   "metadata": {
    "scrolled": true
   },
   "outputs": [],
   "source": [
    "revenue = -F[:, 0]\n",
    "# revenue"
   ]
  },
  {
   "cell_type": "code",
   "execution_count": 28,
   "id": "9c6ec469-29ad-47b5-aac2-7fe2461b813c",
   "metadata": {
    "scrolled": true
   },
   "outputs": [],
   "source": [
    "utility = -F[:, 1]\n",
    "# utility"
   ]
  },
  {
   "cell_type": "code",
   "execution_count": null,
   "id": "03252681-e9e1-4042-842d-25ad16818a85",
   "metadata": {
    "scrolled": true
   },
   "outputs": [],
   "source": []
  },
  {
   "cell_type": "code",
   "execution_count": 29,
   "id": "a190c77e-494a-41c6-9236-39aadf6c4143",
   "metadata": {
    "scrolled": true
   },
   "outputs": [],
   "source": [
    "# Print sample solutions\n",
    "# print(\"Sample Solutions:\")\n",
    "# for i in range(min(5, len(X))):  # Print first 5 solutions\n",
    "#     print(f\"Solution {i+1}:\")\n",
    "#     print(f\"  p = {X[i, 0]:.2f} USD/MWh\")\n",
    "#     print(f\"  x_n = {X[i, 1:]} MWh\")\n",
    "#     print(f\"  Revenue = {revenue[i]:.2f} USD\")\n",
    "#     print(f\"  Utility = {utility[i]:.2f}\")\n",
    "#     print(f\"  Wastage = {wastage[i]:.2f} MWh\\n\")"
   ]
  },
  {
   "cell_type": "code",
   "execution_count": 30,
   "id": "bb21c318-a73f-4dc6-a7d2-f33a51400788",
   "metadata": {},
   "outputs": [
    {
     "data": {
      "image/png": "[encoded data removed]",
      "text/plain": [
       "<Figure size 800x300 with 1 Axes>"
      ]
     },
     "metadata": {},
     "output_type": "display_data"
    }
   ],
   "source": [
    "# Plot the Pareto front\n",
    "fig = plt.figure(figsize=(8 , 3))\n",
    "ax = fig.add_subplot(111)\n",
    "sc = ax.scatter(revenue, utility, c='blue', label='Pareto Front')\n",
    "ax.set_xlabel('Revenue (USD)')\n",
    "ax.set_ylabel('Utility')\n",
    "ax.set_title('Pareto Front: Revenue vs. Utility')\n",
    "plt.legend()\n",
    "plt.show()"
   ]
  },
  {
   "cell_type": "code",
   "execution_count": null,
   "id": "42a2a9f8-b94e-4170-bddf-a3542c437411",
   "metadata": {},
   "outputs": [],
   "source": []
  },
  {
   "cell_type": "code",
   "execution_count": null,
   "id": "07a9df77-31de-4c41-a2d2-fe74392db627",
   "metadata": {},
   "outputs": [],
   "source": []
  },
  {
   "cell_type": "code",
   "execution_count": null,
   "id": "93d42993-f48a-4ebb-889c-e331aaf9de28",
   "metadata": {},
   "outputs": [],
   "source": []
  }
 ],
 "metadata": {
  "kernelspec": {
   "display_name": "Python 3 (ipykernel)",
   "language": "python",
   "name": "python3"
  },
  "language_info": {
   "codemirror_mode": {
    "name": "ipython",
    "version": 3
   },
   "file_extension": ".py",
   "mimetype": "text/x-python",
   "name": "python",
   "nbconvert_exporter": "python",
   "pygments_lexer": "ipython3",
   "version": "3.12.4"
  }
 },
 "nbformat": 4,
 "nbformat_minor": 5
}
