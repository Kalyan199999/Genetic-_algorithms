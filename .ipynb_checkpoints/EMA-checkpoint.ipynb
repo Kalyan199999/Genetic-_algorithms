{
 "cells": [
  {
   "cell_type": "code",
   "execution_count": 1,
   "id": "930b02d9-662c-4820-ac11-febdb52b90ab",
   "metadata": {},
   "outputs": [],
   "source": [
    "import numpy as np\n",
    "import random\n",
    "import matplotlib.pyplot as plt"
   ]
  },
  {
   "cell_type": "code",
   "execution_count": 2,
   "id": "c4521227-b80f-46e1-9cc7-91ab88922627",
   "metadata": {},
   "outputs": [],
   "source": [
    "# Parameters\n",
    "num_pevgs = 10  # Number of PEVGs\n",
    "grid_capacity = 99  # Total energy available from the grid (MWh)\n",
    "max_iterations = 100  # Maximum number of iterations\n",
    "population_size = 100  # Number of particles\n",
    "local_search_iterations = 10  # Number of local search iterations\n",
    "delta = 0.5  # Local search parameter"
   ]
  },
  {
   "cell_type": "code",
   "execution_count": 3,
   "id": "eb8b16f8-9be9-4bb4-99c0-311cd1c50fbb",
   "metadata": {},
   "outputs": [],
   "source": [
    "\n",
    "# Bounds\n",
    "price_lower_bound = 20  # Lower bound for price (USD/MWh)\n",
    "price_upper_bound = 60  # Upper bound for price (USD/MWh)\n",
    "battery_capacity_lower_bound = 35  # Lower bound for battery capacity (MWh)\n",
    "battery_capacity_upper_bound = 65  # Upper bound for battery capacity (MWh)\n"
   ]
  },
  {
   "cell_type": "markdown",
   "id": "f6efc622-057d-4e61-89e5-c31fa4af6a8a",
   "metadata": {},
   "source": [
    "# PEVG parameters"
   ]
  },
  {
   "cell_type": "code",
   "execution_count": 4,
   "id": "538dd2d9-e5d7-4a95-bcee-dee03ce31cd2",
   "metadata": {},
   "outputs": [],
   "source": [
    "battery_capacities = np.random.uniform(battery_capacity_lower_bound, battery_capacity_upper_bound, num_pevgs)  # Battery capacities (MWh)\n",
    "satisfaction_parameters = np.random.uniform(1, 2, num_pevgs)  # Satisfaction parameters\n"
   ]
  },
  {
   "cell_type": "markdown",
   "id": "f891e365-355b-4606-986c-95da675bc7f0",
   "metadata": {},
   "source": [
    "# Initialize population"
   ]
  },
  {
   "cell_type": "code",
   "execution_count": 5,
   "id": "01c20c99-ed4d-45a5-8d40-9ff9d4513bcd",
   "metadata": {},
   "outputs": [],
   "source": [
    "\n",
    "def initialize_population(population_size, num_pevgs, grid_capacity, price_lower_bound, price_upper_bound):\n",
    "    population = []\n",
    "    for _ in range(population_size):\n",
    "        energy_demands = np.random.uniform(0, grid_capacity, num_pevgs)\n",
    "        energy_demands = energy_demands / np.sum(energy_demands) * grid_capacity\n",
    "        price = np.random.uniform(price_lower_bound, price_upper_bound)  # Initial price (USD/MWh)\n",
    "        population.append((energy_demands, price))\n",
    "    return population"
   ]
  },
  {
   "cell_type": "markdown",
   "id": "e61dfce0-fb10-4db7-8977-25637c16374e",
   "metadata": {},
   "source": [
    "# Objectives"
   ]
  },
  {
   "cell_type": "code",
   "execution_count": 6,
   "id": "38f05387-1fb1-4f15-9b08-d20b0c7c0337",
   "metadata": {},
   "outputs": [],
   "source": [
    "\n",
    "# Utility function for PEVGs\n",
    "def utility_function(energy_demands, price, battery_capacities, satisfaction_parameters):\n",
    "    utilities = battery_capacities * energy_demands - 0.5 * satisfaction_parameters * energy_demands**2 - price * energy_demands\n",
    "    return utilities"
   ]
  },
  {
   "cell_type": "code",
   "execution_count": 7,
   "id": "1f476d0b-bf21-4894-ac90-f377f285a7ea",
   "metadata": {},
   "outputs": [],
   "source": [
    "# Revenue function for the grid\n",
    "def revenue_function(energy_demands, price):\n",
    "    return price * np.sum(energy_demands)"
   ]
  },
  {
   "cell_type": "code",
   "execution_count": 8,
   "id": "b69eb0e1-2f3f-4858-afbc-bde75f487dc6",
   "metadata": {},
   "outputs": [],
   "source": [
    "# Constraint handling: Ensure total energy demand <= grid capacity\n",
    "def handle_constraints(energy_demands, grid_capacity):\n",
    "    total_demand = np.sum(energy_demands)\n",
    "    if total_demand > grid_capacity:\n",
    "        energy_demands = energy_demands / total_demand * grid_capacity\n",
    "    return energy_demands"
   ]
  },
  {
   "cell_type": "markdown",
   "id": "808656a5-758d-4283-8eda-5d5eaab5cda1",
   "metadata": {},
   "source": [
    "# Local search"
   ]
  },
  {
   "cell_type": "code",
   "execution_count": 9,
   "id": "5e2aeeea-1141-4c91-85ca-3e10b29b9bb8",
   "metadata": {},
   "outputs": [],
   "source": [
    "\n",
    "def local_search(particle, battery_capacities, satisfaction_parameters, grid_capacity, delta, price_lower_bound, price_upper_bound):\n",
    "    energy_demands, price = particle\n",
    "    for _ in range(local_search_iterations):\n",
    "        new_energy_demands = energy_demands + delta * np.random.uniform(-1, 1, num_pevgs)\n",
    "        new_energy_demands = np.clip(new_energy_demands, 0, grid_capacity)\n",
    "        new_energy_demands = handle_constraints(new_energy_demands, grid_capacity)\n",
    "        new_price = price + delta * np.random.uniform(-1, 1)\n",
    "        new_price = np.clip(new_price, price_lower_bound, price_upper_bound)\n",
    "        if np.sum(new_energy_demands) <= grid_capacity:\n",
    "            energy_demands, price = new_energy_demands, new_price\n",
    "    return energy_demands, price"
   ]
  },
  {
   "cell_type": "code",
   "execution_count": 10,
   "id": "7fb9e83f-6e23-40fa-a15f-ae82437f9403",
   "metadata": {},
   "outputs": [],
   "source": [
    "# Check if one solution dominates another\n",
    "def dominates(solution1, solution2):\n",
    "    # solution1 dominates solution2 if it is better in at least one objective and not worse in any other\n",
    "    better_in_one = False\n",
    "    for i in range(len(solution1)):\n",
    "        if solution1[i] < solution2[i]:\n",
    "            return False\n",
    "        if solution1[i] > solution2[i]:\n",
    "            better_in_one = True\n",
    "    return better_in_one"
   ]
  },
  {
   "cell_type": "markdown",
   "id": "49ca7a68-a5dc-4a40-a00c-3e10dd9b14d8",
   "metadata": {},
   "source": [
    "# Update Pareto front"
   ]
  },
  {
   "cell_type": "code",
   "execution_count": 11,
   "id": "e26e6514-c689-4cea-834d-43ec269edfa3",
   "metadata": {},
   "outputs": [],
   "source": [
    "\n",
    "def update_pareto_front(pareto_front, new_solution):\n",
    "    # Add new_solution to the Pareto front if it is not dominated by any existing solution\n",
    "    to_remove = []\n",
    "    for i, solution in enumerate(pareto_front):\n",
    "        if dominates(solution, new_solution):\n",
    "            return pareto_front  # new_solution is dominated, do not add it\n",
    "        if dominates(new_solution, solution):\n",
    "            to_remove.append(i)  # existing solution is dominated by new_solution\n",
    "    # Remove dominated solutions\n",
    "    pareto_front = [solution for j, solution in enumerate(pareto_front) if j not in to_remove]\n",
    "    # Add new_solution to the Pareto front\n",
    "    pareto_front.append(new_solution)\n",
    "    return pareto_front"
   ]
  },
  {
   "cell_type": "code",
   "execution_count": 12,
   "id": "ae7c2cc9-ea8f-4520-9f0f-fc051c4104d8",
   "metadata": {},
   "outputs": [],
   "source": [
    "# def update_pareto_front(pareto_front, new_solutions):\n",
    "#     res = []\n",
    "#     for i in range(len(pareto_front)):\n",
    "#         if dominates(pareto_front[i], new_solutions[i]):\n",
    "#             res.append(pareto_front[i])\n",
    "#         elif dominates( new_solutions[i] , pareto_front[i]):\n",
    "#             res.append(new_solutions[i])\n",
    "#     return res"
   ]
  },
  {
   "cell_type": "markdown",
   "id": "333da05b-a6b7-4426-8c26-a6c2bc8e3288",
   "metadata": {},
   "source": [
    "# EMA algorithm"
   ]
  },
  {
   "cell_type": "code",
   "execution_count": 13,
   "id": "95f526a6-669f-42b0-8f0c-b8bf93f8b668",
   "metadata": {},
   "outputs": [],
   "source": [
    "\n",
    "def ema_algorithm(num_pevgs, grid_capacity, battery_capacities, satisfaction_parameters, population_size, max_iterations, delta, price_lower_bound, price_upper_bound):\n",
    "    population = initialize_population(population_size, num_pevgs, grid_capacity, price_lower_bound, price_upper_bound)\n",
    "    pareto_front = []  # Initialize Pareto front\n",
    "    \n",
    "    for iteration in range(max_iterations):\n",
    "        # Evaluate fitness\n",
    "        fitness = []\n",
    "        for particle in population:\n",
    "            energy_demands, price = particle\n",
    "            utilities = utility_function(energy_demands, price, battery_capacities, satisfaction_parameters)\n",
    "            revenue = revenue_function(energy_demands, price)\n",
    "            fitness.append((np.sum(utilities), revenue))\n",
    "\n",
    "        # if(len(pareto_front) == 0): \n",
    "        #     pareto_front = fitness\n",
    "        # else: \n",
    "        #     pareto_front = update_pareto_front(pareto_front, fitness)\n",
    "        \n",
    "        # Update Pareto front\n",
    "        for i in range(population_size):\n",
    "            pareto_front = update_pareto_front(pareto_front, fitness[i])\n",
    "        \n",
    "        # Calculate forces\n",
    "        forces = []\n",
    "        for i in range(population_size):\n",
    "            force = np.zeros(num_pevgs + 1)\n",
    "            for j in range(population_size):\n",
    "                if i != j:\n",
    "                    diff = np.array(list(population[j][0]) + [population[j][1]]) - np.array(list(population[i][0]) + [population[i][1]])\n",
    "                    force += diff / np.linalg.norm(diff)**2\n",
    "            forces.append(force)\n",
    "        \n",
    "        # Move particles\n",
    "        for i in range(population_size):\n",
    "            energy_demands, price = population[i]\n",
    "            force = forces[i]\n",
    "            new_energy_demands = energy_demands + delta * force[:-1]\n",
    "            new_price = price + delta * force[-1]\n",
    "            new_energy_demands = np.clip(new_energy_demands, 0, grid_capacity)\n",
    "            new_energy_demands = handle_constraints(new_energy_demands, grid_capacity)\n",
    "            new_price = np.clip(new_price, price_lower_bound, price_upper_bound)\n",
    "            population[i] = (new_energy_demands, new_price)\n",
    "        \n",
    "        # Local search\n",
    "        for i in range(population_size):\n",
    "            population[i] = local_search(population[i], battery_capacities, satisfaction_parameters, grid_capacity, delta, price_lower_bound, price_upper_bound)\n",
    "    \n",
    "    # Return Pareto front\n",
    "    return pareto_front\n",
    "\n"
   ]
  },
  {
   "cell_type": "code",
   "execution_count": 14,
   "id": "8d20196d-accf-4376-8142-cadc46f8eeb2",
   "metadata": {},
   "outputs": [],
   "source": [
    "# Run EMA algorithm\n",
    "pareto_front = ema_algorithm(num_pevgs, grid_capacity, battery_capacities, satisfaction_parameters, population_size, max_iterations, delta, price_lower_bound, price_upper_bound)"
   ]
  },
  {
   "cell_type": "code",
   "execution_count": 15,
   "id": "05fe341d-d7d1-46f0-a215-2d0af90adbb1",
   "metadata": {
    "scrolled": true
   },
   "outputs": [],
   "source": [
    "# # Print Pareto front\n",
    "# print(\"Pareto Front Solutions:\")\n",
    "# for i, solution in enumerate(pareto_front):\n",
    "#     print(f\"Solution {i + 1}: Utilities = {solution[0]}, Revenue = {solution[1]}\")"
   ]
  },
  {
   "cell_type": "code",
   "execution_count": 16,
   "id": "cde4a51c-7ab9-45ae-b11f-a3c578988d3c",
   "metadata": {
    "scrolled": true
   },
   "outputs": [],
   "source": [
    "X = []\n",
    "Y = []\n",
    "for objective in pareto_front:\n",
    "    X.append(objective[1])\n",
    "    Y.append(objective[0])\n"
   ]
  },
  {
   "cell_type": "code",
   "execution_count": 17,
   "id": "c60b7e5f-97f9-49e4-a96d-996dcf591c9b",
   "metadata": {},
   "outputs": [
    {
     "data": {
      "image/png": "[encoded data removed]",
      "text/plain": [
       "<Figure size 800x300 with 1 Axes>"
      ]
     },
     "metadata": {},
     "output_type": "display_data"
    }
   ],
   "source": [
    "plt.figure(figsize=(8,3))\n",
    "plt.scatter(X,Y)\n",
    "plt.title(\"Revenue vs utility\")\n",
    "plt.xlabel(\"Revenue\")\n",
    "plt.ylabel(\"Utility\")\n",
    "plt.show()"
   ]
  },
  {
   "cell_type": "code",
   "execution_count": null,
   "id": "d540d534-7d87-4b1e-9900-c6ed975a4c90",
   "metadata": {},
   "outputs": [],
   "source": []
  }
 ],
 "metadata": {
  "kernelspec": {
   "display_name": "Python 3 (ipykernel)",
   "language": "python",
   "name": "python3"
  },
  "language_info": {
   "codemirror_mode": {
    "name": "ipython",
    "version": 3
   },
   "file_extension": ".py",
   "mimetype": "text/x-python",
   "name": "python",
   "nbconvert_exporter": "python",
   "pygments_lexer": "ipython3",
   "version": "3.12.4"
  }
 },
 "nbformat": 4,
 "nbformat_minor": 5
}
