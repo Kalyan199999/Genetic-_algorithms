{
 "cells": [
  {
   "cell_type": "code",
   "execution_count": 1,
   "id": "aeee0a6a-8777-4b7a-bd9c-b5be5cbd9d74",
   "metadata": {},
   "outputs": [],
   "source": [
    "import numpy as np\n",
    "import random\n",
    "import matplotlib.pyplot as plt"
   ]
  },
  {
   "cell_type": "code",
   "execution_count": 2,
   "id": "910a15ff-f53f-4c50-a9ef-d5d48a27492d",
   "metadata": {},
   "outputs": [],
   "source": [
    "# Parameters of  problem\n",
    "# Number of PEVGs\n",
    "N = 5  \n",
    "\n",
    "# Grid capacity (MWh)\n",
    "C = 99  \n",
    "\n",
    "# Battery capacities\n",
    "# b_n = np.array([50, 60, 40, 55, 45])  \n",
    "b_n = []\n",
    "for i in range(N):\n",
    "    b_n.append( random.randint(45,65) )\n",
    "\n",
    "# Satisfaction parameters\n",
    "# s_n = np.array([1, 1.2, 1.5, 1.1, 1.3])  \n",
    "s_n = []\n",
    "for i in range(N):\n",
    "    s_n.append( random.uniform(1,2) )\n",
    "\n",
    "b_n = np.array(b_n)\n",
    "s_n = np.array(s_n)"
   ]
  },
  {
   "cell_type": "code",
   "execution_count": 3,
   "id": "308f299d-7dda-43ed-886c-3441d7d150b9",
   "metadata": {},
   "outputs": [],
   "source": [
    "# Swarm size\n",
    "n_particles = 100  \n",
    "\n",
    "# Number of iterations\n",
    "n_iterations = 100\n",
    "w = 0.7  \n",
    "c1 = 2.0  \n",
    "c2 = 2.0  \n",
    "\n",
    "# Archive size for non-dominated solutions\n",
    "max_archive_size = 100  \n",
    "\n",
    "# Bounds\n",
    "lb = np.array([20] + [0] * N)  # Lower bounds: p >= 0, x_n >= 0\n",
    "ub = np.array([50] + [min(b_n[i], C) for i in range(N)])  # Upper bounds: p <= 65, x_n <= b_n"
   ]
  },
  {
   "cell_type": "code",
   "execution_count": 4,
   "id": "ea124458-0361-465d-8225-e5a683fac2c1",
   "metadata": {},
   "outputs": [],
   "source": [
    "obj1 = []\n",
    "obj2 = []"
   ]
  },
  {
   "cell_type": "code",
   "execution_count": 5,
   "id": "3395ec7a-1e30-402e-aa65-cfe7c0c6f2aa",
   "metadata": {},
   "outputs": [],
   "source": [
    "def findbest_1():\n",
    "    p = -1\n",
    "\n",
    "    # if( len(obj1) != 0):\n",
    "    #     p = obj1[-1]\n",
    "\n",
    "    # if( len(archive) != 0 and p<archive[-1][1][1]):\n",
    "    #     p = archive[-1][1][0]\n",
    "\n",
    "    # if(len(archive) != 0):\n",
    "    #     p = archive[-1][1][0]\n",
    "    \n",
    "    for obj in archive:\n",
    "        if p < obj[1][0]:\n",
    "            p  = obj[1][0]\n",
    "            # print(p)\n",
    "    obj1.append(p)"
   ]
  },
  {
   "cell_type": "code",
   "execution_count": 6,
   "id": "0ec69fbf-0189-486f-ac3a-db0e6e9be09c",
   "metadata": {},
   "outputs": [],
   "source": [
    "def findbest_2():\n",
    "    p = -1\n",
    "\n",
    "    if( len(obj2) != 0):\n",
    "        p = obj2[-1]\n",
    "\n",
    "    # if( len(archive) != 0 and p<archive[-1][1][1]):\n",
    "    #     p = archive[-1][1][1]\n",
    "    \n",
    "    for obj in archive:\n",
    "        if p < obj[1][1]:\n",
    "            p  = obj[1][1]\n",
    "            # print(p)\n",
    "    obj2.append(p)"
   ]
  },
  {
   "cell_type": "code",
   "execution_count": 7,
   "id": "f1f070bc-284a-4512-9769-879addaaf852",
   "metadata": {},
   "outputs": [],
   "source": [
    "# Objective functions\n",
    "def evaluate_objectives(X):\n",
    "    p = X[0]\n",
    "    x_n = X[1:]\n",
    "    revenue = p * np.sum(x_n)\n",
    "    utility = np.sum(b_n * x_n - 0.5 * s_n * x_n**2 - p * x_n)\n",
    "    \n",
    "    # constrains\n",
    "    wastage = np.sum(x_n) - C\n",
    "    return np.array([revenue, utility])  # Maximize revenue, utility, minimize wastage (negated)"
   ]
  },
  {
   "cell_type": "code",
   "execution_count": 8,
   "id": "dcd9931a-3d8c-419f-8b26-d4adc1dc5276",
   "metadata": {},
   "outputs": [],
   "source": [
    "# Check dominance\n",
    "def dominates(obj1, obj2):\n",
    "    return (obj1[0] >= obj2[0] and obj1[1] >= obj2[1] ) and \\\n",
    "           (obj1[0] > obj2[0] or obj1[1] > obj2[1] )"
   ]
  },
  {
   "cell_type": "code",
   "execution_count": 9,
   "id": "e4450cac-5ed6-4cbe-b3e6-2e254cf570ab",
   "metadata": {},
   "outputs": [],
   "source": [
    "# Initialize particles\n",
    "np.random.seed(42)\n",
    "positions = np.random.uniform(lb, ub, (n_particles, N + 1))\n",
    "velocities = np.random.uniform(-1, 1, (n_particles, N + 1)) * (ub - lb) * 0.1\n",
    "pbest_positions = positions.copy()\n",
    "pbest_objectives = np.array([evaluate_objectives(pos) for pos in positions])\n",
    "archive = []  # Non-dominated solutions"
   ]
  },
  {
   "cell_type": "code",
   "execution_count": null,
   "id": "e89aa730-c992-4cb9-b9bb-3eaf941e3574",
   "metadata": {},
   "outputs": [],
   "source": []
  },
  {
   "cell_type": "code",
   "execution_count": 10,
   "id": "98ae41e6-96a7-4e4c-a404-ce3b4314a514",
   "metadata": {},
   "outputs": [],
   "source": [
    "# Initialize archive with initial non-dominated solutions\n",
    "for i in range(n_particles):\n",
    "    dominated = False\n",
    "    for j in range(len(archive)):\n",
    "        if dominates(archive[j][1], pbest_objectives[i]):\n",
    "            dominated = True\n",
    "            break\n",
    "    if not dominated:\n",
    "        archive.append((positions[i].copy(), pbest_objectives[i].copy()))\n",
    "        # Remove dominated solutions from archive\n",
    "        archive = [sol for sol in archive if not dominates(pbest_objectives[i], sol[1])]\n",
    "        if len(archive) > max_archive_size:\n",
    "            archive.pop(np.random.randint(len(archive)))"
   ]
  },
  {
   "cell_type": "code",
   "execution_count": 11,
   "id": "30564f85-f538-46cf-b0e4-1027983fd636",
   "metadata": {},
   "outputs": [],
   "source": [
    "# MOPSO\n",
    "for iteration in range(n_iterations):\n",
    "    for i in range(n_particles):\n",
    "        # Enforce constraint: sum(x_n) <= C\n",
    "        x_n = positions[i, 1:]\n",
    "        if np.sum(x_n) > C:\n",
    "            x_n = x_n * C / np.sum(x_n)\n",
    "            positions[i, 1:] = x_n\n",
    "\n",
    "        # Evaluate objectives\n",
    "        objectives = evaluate_objectives(positions[i])\n",
    "\n",
    "        # Update personal best\n",
    "        if not dominates(pbest_objectives[i], objectives):\n",
    "            pbest_positions[i] = positions[i].copy()\n",
    "            pbest_objectives[i] = objectives.copy()\n",
    "\n",
    "        # Update archive\n",
    "        dominated = False\n",
    "        for sol in archive:\n",
    "            if dominates(sol[1], objectives):\n",
    "                dominated = True\n",
    "                break\n",
    "        if not dominated:\n",
    "            archive.append((positions[i].copy(), objectives.copy()))\n",
    "            archive = [sol for sol in archive if not dominates(objectives, sol[1])]\n",
    "            if len(archive) > max_archive_size:\n",
    "                archive.pop(np.random.randint(len(archive)))\n",
    "\n",
    "    findbest_1()\n",
    "    findbest_2()\n",
    "\n",
    "    # Select global best (random from archive)\n",
    "    gbest = archive[np.random.randint(len(archive))][0]\n",
    "    \n",
    "\n",
    "    # Update velocities and positions\n",
    "    for i in range(n_particles):\n",
    "        r1, r2 = np.random.rand(2)\n",
    "        velocities[i] = (w * velocities[i] +\n",
    "                         c1 * r1 * (pbest_positions[i] - positions[i]) +\n",
    "                         c2 * r2 * (gbest - positions[i]))\n",
    "        positions[i] = positions[i] + velocities[i]\n",
    "        # Clamp to bounds\n",
    "        positions[i] = np.clip(positions[i], lb, ub)"
   ]
  },
  {
   "cell_type": "code",
   "execution_count": 13,
   "id": "9e59cc91-32b1-4343-ab03-6cb461eccbf8",
   "metadata": {},
   "outputs": [],
   "source": [
    "# Extract Pareto front\n",
    "pareto_positions = np.array([sol[0] for sol in archive])\n",
    "pareto_objectives = np.array([sol[1] for sol in archive])\n",
    "revenue = pareto_objectives[:, 0]\n",
    "utility = pareto_objectives[:, 1]\n",
    "# wastage = -pareto_objectives[:, 2]  # Convert back to positive wastage"
   ]
  },
  {
   "cell_type": "code",
   "execution_count": 14,
   "id": "97cb57fd-73b2-4e9c-958e-edf02a0f532b",
   "metadata": {},
   "outputs": [
    {
     "data": {
      "image/png": "[encoded data removed]",
      "text/plain": [
       "<Figure size 800x300 with 1 Axes>"
      ]
     },
     "metadata": {},
     "output_type": "display_data"
    }
   ],
   "source": [
    "# Plot\n",
    "fig = plt.figure(figsize=(8, 3))\n",
    "ax = fig.add_subplot(111)\n",
    "ax.scatter(revenue, utility, c='blue', label='Pareto Front')\n",
    "ax.set_xlabel('Revenue (USD)')\n",
    "ax.set_ylabel('Utility')\n",
    "ax.set_title('Pareto Front: Revenue vs. Utility ')\n",
    "plt.legend()\n",
    "plt.show()"
   ]
  },
  {
   "cell_type": "code",
   "execution_count": null,
   "id": "f2e6096a-92a9-469c-9ba0-7899e26e2249",
   "metadata": {},
   "outputs": [],
   "source": [
    "# Print sample solutions\n",
    "# print(\"Sample Solutions:\")\n",
    "# for i in range(min(5, len(pareto_positions))):\n",
    "#     print(f\"Solution {i+1}:\")\n",
    "#     print(f\"  p = {pareto_positions[i, 0]:.2f} USD/MWh\")\n",
    "#     print(f\"  x_n = {pareto_positions[i, 1:]} MWh\")\n",
    "#     print(f\"  Revenue = {revenue[i]:.2f} USD\")\n",
    "#     print(f\"  Utility = {utility[i]:.2f}\")\n",
    "#     print(f\"  Wastage = {wastage[i]:.2f} MWh\\n\")"
   ]
  },
  {
   "cell_type": "code",
   "execution_count": null,
   "id": "310e9422-c31d-45e8-b1bb-f64ea75335c5",
   "metadata": {},
   "outputs": [],
   "source": [
    "# findbest_1()\n",
    "# findbest_2()"
   ]
  },
  {
   "cell_type": "code",
   "execution_count": null,
   "id": "c154584b-f3b0-4051-8155-5ced9f952726",
   "metadata": {
    "scrolled": true
   },
   "outputs": [],
   "source": [
    "# X = np.arange(1,100+1)"
   ]
  },
  {
   "cell_type": "code",
   "execution_count": null,
   "id": "6b6e85b8-2550-46a6-a4f5-679c2e94717c",
   "metadata": {},
   "outputs": [],
   "source": [
    "# plt.figure(figsize=(8,3))\n",
    "# plt.plot(X,obj2[0:100])\n",
    "# plt.xlabel(\"Iteration\")\n",
    "# plt.ylabel(\"Revenue\")\n",
    "# plt.show()"
   ]
  },
  {
   "cell_type": "code",
   "execution_count": null,
   "id": "a7ed2c01-079f-4826-b505-d5d29df3702e",
   "metadata": {},
   "outputs": [],
   "source": [
    "# obj1 = sorted(obj1 ,reverse=True)\n",
    "# plt.figure(figsize=(8,3))\n",
    "# plt.plot(X,obj1[0:100])\n",
    "# plt.xlabel(\"Iteration\")\n",
    "# plt.ylabel(\"Utilization\")\n",
    "# plt.show()"
   ]
  },
  {
   "cell_type": "code",
   "execution_count": null,
   "id": "eeae252d-d638-45e5-bc24-4a72fadd1a71",
   "metadata": {},
   "outputs": [],
   "source": []
  },
  {
   "cell_type": "code",
   "execution_count": null,
   "id": "9b6f54eb-1870-43d6-88dd-6c13f2ea03d0",
   "metadata": {},
   "outputs": [],
   "source": []
  }
 ],
 "metadata": {
  "kernelspec": {
   "display_name": "Python 3 (ipykernel)",
   "language": "python",
   "name": "python3"
  },
  "language_info": {
   "codemirror_mode": {
    "name": "ipython",
    "version": 3
   },
   "file_extension": ".py",
   "mimetype": "text/x-python",
   "name": "python",
   "nbconvert_exporter": "python",
   "pygments_lexer": "ipython3",
   "version": "3.12.4"
  }
 },
 "nbformat": 4,
 "nbformat_minor": 5
}
