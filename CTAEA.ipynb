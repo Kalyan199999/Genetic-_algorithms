{
 "cells": [
  {
   "cell_type": "code",
   "execution_count": 1,
   "id": "995c9ad2-91a6-4784-8e4d-a70325735b0d",
   "metadata": {},
   "outputs": [],
   "source": [
    "import numpy as np\n",
    "from pymoo.core.problem import ElementwiseProblem\n",
    "from pymoo.algorithms.moo.ctaea import CTAEA\n",
    "from pymoo.optimize import minimize\n",
    "from pymoo.util.ref_dirs import get_reference_directions\n",
    "from pymoo.visualization.scatter import Scatter"
   ]
  },
  {
   "cell_type": "code",
   "execution_count": 2,
   "id": "4c7ffdc6-18d4-46c1-9917-43f6ba487392",
   "metadata": {},
   "outputs": [],
   "source": [
    "# Define the problem class\n",
    "class EVChargingProblem(ElementwiseProblem):\n",
    "    def __init__(self, n_pevgs=3, C=100, b_n=[35, 45, 55], s_n=[1.0, 1.2, 1.5]):\n",
    "        \"\"\"\n",
    "        n_pevgs: Number of PEVG groups\n",
    "        C: Grid capacity\n",
    "        b_n: Battery capacities for each PEVG\n",
    "        s_n: Satisfaction parameters for each PEVG\n",
    "        \"\"\"\n",
    "        self.n_pevgs = n_pevgs\n",
    "        self.C = C\n",
    "        self.b_n = b_n\n",
    "        self.s_n = s_n\n",
    "        \n",
    "        # Variables: price (p) + energy demands (x_n) for each PEVG\n",
    "        super().__init__(\n",
    "            n_var=n_pevgs + 1,  # p + x_1, x_2, ..., x_n\n",
    "            n_obj=2,            # SG revenue and PEVG utility\n",
    "            n_constr=1 + n_pevgs,  # Grid capacity + individual battery limits\n",
    "            xl=np.array([0.1] + [0] * n_pevgs),  # Lower bounds: p >= 0.1, x_n >= 0\n",
    "            xu=np.array([20.0] + b_n)            # Upper bounds: p <= 20, x_n <= b_n\n",
    "        )\n",
    "\n",
    "    def _evaluate(self, X, out, *args, **kwargs):\n",
    "        # X: [p, x_1, x_2, ..., x_n]\n",
    "        p = X[0]  # Price set by SG\n",
    "        x = X[1:] # Energy demands by PEVGs\n",
    "\n",
    "        # Objective 1: SG Revenue (to maximize)\n",
    "        revenue = p * np.sum(x)\n",
    "        f1 = -revenue  # Negate for minimization (pymoo minimizes by default)\n",
    "\n",
    "        # Objective 2: Aggregated PEVG Utility (to maximize)\n",
    "        utility = np.sum([\n",
    "            self.b_n[i] * x[i] - 0.5 * self.s_n[i] * x[i]**2 - p * x[i] \n",
    "            for i in range(self.n_pevgs)\n",
    "        ])\n",
    "        f2 = -utility  # Negate for minimization\n",
    "\n",
    "        # Constraints\n",
    "        g1 = np.sum(x) - self.C  # Total demand <= grid capacity\n",
    "        g2 = x - self.b_n        # Individual demands <= battery capacities\n",
    "\n",
    "        # Output\n",
    "        out[\"F\"] = np.array([f1, f2])  # Objectives\n",
    "        out[\"G\"] = np.concatenate(([g1], g2))  # Constraints (must be <= 0)\n"
   ]
  },
  {
   "cell_type": "code",
   "execution_count": 3,
   "id": "c679158b-74f3-4c32-bf4a-177db3bf3ad7",
   "metadata": {},
   "outputs": [],
   "source": [
    "\n",
    "# Problem parameters (example values from Section VI)\n",
    "n_pevgs = 5\n",
    "C = 99  # Grid capacity (from simulation: 99 MWh)\n",
    "b_n = [35, 45, 55,33,42]  # Battery capacities (range: 35-65 MWh)\n",
    "s_n = [1.0, 1.2, 1.5,1.4,1.7]  # Satisfaction parameters (range: 1-2)"
   ]
  },
  {
   "cell_type": "code",
   "execution_count": 4,
   "id": "cb7da511-01c6-45f0-be0f-a4c4eb11a4ec",
   "metadata": {},
   "outputs": [],
   "source": [
    "# Instantiate the problem\n",
    "problem = EVChargingProblem(n_pevgs=n_pevgs, C=C, b_n=b_n, s_n=s_n)"
   ]
  },
  {
   "cell_type": "code",
   "execution_count": 29,
   "id": "2f200d38-e2cb-4370-b31c-11d8c14dabe4",
   "metadata": {},
   "outputs": [],
   "source": [
    "ref_dirs = get_reference_directions(\"das-dennis\", 2, n_partitions=12)"
   ]
  },
  {
   "cell_type": "code",
   "execution_count": null,
   "id": "0904f20b-03e9-48bf-b99d-24df8759944a",
   "metadata": {},
   "outputs": [],
   "source": []
  },
  {
   "cell_type": "code",
   "execution_count": 39,
   "id": "b9720a53-3f8a-4095-8e7a-2e9c3cd80893",
   "metadata": {},
   "outputs": [],
   "source": [
    "# Define the algorithm\n",
    "algorithm = CTAEA( \n",
    "    ref_dirs,\n",
    "    \n",
    "    eliminate_duplicates=True\n",
    ")"
   ]
  },
  {
   "cell_type": "code",
   "execution_count": 40,
   "id": "a7d8f6e7-144b-410a-87bb-6e3527705fc4",
   "metadata": {},
   "outputs": [],
   "source": [
    "# Run the optimization\n",
    "res = minimize(problem,\n",
    "               algorithm,\n",
    "               ('n_gen', 600),\n",
    "               seed=1,\n",
    "               verbose=False\n",
    "               )"
   ]
  },
  {
   "cell_type": "code",
   "execution_count": 8,
   "id": "3ea2081b-7ff9-49ae-8f18-d49492a955f3",
   "metadata": {},
   "outputs": [],
   "source": [
    "# Extract results\n",
    "# print(\"Optimal Solutions Found:\")"
   ]
  },
  {
   "cell_type": "code",
   "execution_count": 9,
   "id": "10b7df96-76e9-4e40-8d1f-d5b1479063c3",
   "metadata": {},
   "outputs": [],
   "source": [
    "# print(\"Price (p) and Energy Demands (x_n):\", res.X)"
   ]
  },
  {
   "cell_type": "code",
   "execution_count": null,
   "id": "082359b8-bffe-423e-a1b1-d56eefb9723e",
   "metadata": {},
   "outputs": [],
   "source": []
  },
  {
   "cell_type": "code",
   "execution_count": 10,
   "id": "f7aa4d05-703c-4395-8c8a-7062f0e8e8af",
   "metadata": {},
   "outputs": [],
   "source": [
    "# print(\"Objectives (SG Revenue, PEVG Utility):\", -res.F)  # Negate back to maximization"
   ]
  },
  {
   "cell_type": "code",
   "execution_count": 41,
   "id": "fc58e1f8-580f-4e39-a3a9-5362a5460dce",
   "metadata": {},
   "outputs": [
    {
     "data": {
      "text/plain": [
       "(13, 2)"
      ]
     },
     "execution_count": 41,
     "metadata": {},
     "output_type": "execute_result"
    }
   ],
   "source": [
    "res.F.shape"
   ]
  },
  {
   "cell_type": "code",
   "execution_count": null,
   "id": "e9ff432c-3075-4881-adfb-224df0b87e7e",
   "metadata": {},
   "outputs": [],
   "source": []
  },
  {
   "cell_type": "code",
   "execution_count": 42,
   "id": "c60ae9b6-f2a0-41c1-930e-534db3bdd7e8",
   "metadata": {},
   "outputs": [
    {
     "data": {
      "text/plain": [
       "<pymoo.visualization.scatter.Scatter at 0x15889d48e30>"
      ]
     },
     "execution_count": 42,
     "metadata": {},
     "output_type": "execute_result"
    },
    {
     "data": {
      "image/png": "[encoded data removed]",
      "text/plain": [
       "<Figure size 800x600 with 1 Axes>"
      ]
     },
     "metadata": {},
     "output_type": "display_data"
    }
   ],
   "source": [
    "sc = Scatter(legend=False, angle=(45, 30))\n",
    "sc.add(problem.pareto_front(ref_dirs), plot_type='surface', alpha=0.2, label=\"PF\", color=\"blue\")\n",
    "sc.add(-res.F, facecolor=\"none\", edgecolor=\"red\")\n",
    "sc.show()"
   ]
  },
  {
   "cell_type": "code",
   "execution_count": null,
   "id": "3af0511d-1438-4ac0-a56e-580c8701d488",
   "metadata": {},
   "outputs": [],
   "source": []
  }
 ],
 "metadata": {
  "kernelspec": {
   "display_name": "Python 3 (ipykernel)",
   "language": "python",
   "name": "python3"
  },
  "language_info": {
   "codemirror_mode": {
    "name": "ipython",
    "version": 3
   },
   "file_extension": ".py",
   "mimetype": "text/x-python",
   "name": "python",
   "nbconvert_exporter": "python",
   "pygments_lexer": "ipython3",
   "version": "3.12.4"
  }
 },
 "nbformat": 4,
 "nbformat_minor": 5
}
