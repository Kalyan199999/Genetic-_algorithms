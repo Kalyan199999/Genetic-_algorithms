{
 "cells": [
  {
   "cell_type": "code",
   "execution_count": 1,
   "id": "e23908fe-85ec-4431-992d-35a8f63156d5",
   "metadata": {},
   "outputs": [],
   "source": [
    "import numpy as np\n",
    "from pymoo.core.problem import ElementwiseProblem\n",
    "from pymoo.algorithms.moo.moead import MOEAD\n",
    "from pymoo.operators.crossover.sbx import SBX\n",
    "from pymoo.operators.mutation.pm import PM\n",
    "from pymoo.operators.sampling.rnd import FloatRandomSampling\n",
    "from pymoo.optimize import minimize\n",
    "from pymoo.visualization.scatter import Scatter\n"
   ]
  },
  {
   "cell_type": "code",
   "execution_count": 2,
   "id": "c653e151-afb8-4dfb-a285-fd88700a026f",
   "metadata": {},
   "outputs": [],
   "source": [
    "# Problem parameters\n",
    "N = 5  # Number of PEVGs\n",
    "C = 99  # Grid capacity (MWh)\n",
    "b_n = np.random.uniform(35, 65, N)  # Battery capacities\n",
    "s_n = np.random.uniform(1, 2, N)    # Satisfaction parameters"
   ]
  },
  {
   "cell_type": "code",
   "execution_count": 3,
   "id": "2705dd5c-cfea-4b2a-be26-082509b2e781",
   "metadata": {},
   "outputs": [],
   "source": [
    "# Define the multi-objective problem\n",
    "class EVChargingProblem(ElementwiseProblem):\n",
    "    def __init__(self):\n",
    "        super().__init__(\n",
    "            n_var=N + 1,  # p + x_1, x_2, ..., x_N\n",
    "            n_obj=2,       # Two objectives: SG revenue and PEVG utility\n",
    "            n_constr=0,    # One constraint: sum(x_n) <= C\n",
    "            xl=np.array([0] + [0] * N),  # Lower bounds: p >= 0, x_n >= 0\n",
    "            xu=np.array([50] + [C] * N)  # Upper bounds: p <= 50, x_n <= C\n",
    "        )\n",
    "\n",
    "    def _evaluate(self, X, out, *args, **kwargs):\n",
    "        p = X[0]  # Price\n",
    "        x = X[1:]  # Demands\n",
    "\n",
    "        # Objective 1: SG revenue (maximize)\n",
    "        f1 = p * np.sum(x)\n",
    "\n",
    "        # Objective 2: PEVG total utility (maximize)\n",
    "        f2 = np.sum(b_n * x - 0.5 * s_n * x**2 - p * x)\n",
    "\n",
    "        # Constraint: sum(x_n) <= C (g(x) <= 0)\n",
    "        g1 = np.sum(x) - C\n",
    "\n",
    "        # MOEA/D minimizes, so negate objectives to maximize\n",
    "        out[\"F\"] = [-f1, -f2]\n",
    "        out[\"G\"] = []"
   ]
  },
  {
   "cell_type": "code",
   "execution_count": 4,
   "id": "2c72aeed-3bab-4dc1-812a-fd8cdca533b8",
   "metadata": {},
   "outputs": [],
   "source": [
    "# Initialize MOEA/D algorithm\n",
    "algorithm = MOEAD(\n",
    "    ref_dirs=np.array([[1.0, 0.0], [0.75, 0.25], [0.5, 0.5], [0.25, 0.75], [0.0, 1.0]]),  # Weight vectors\n",
    "    n_neighbors=5,  # Neighborhood size\n",
    "    prob_neighbor=0.9,  # Probability of using neighbors\n",
    "    sampling=FloatRandomSampling(),\n",
    "    crossover=SBX(prob=0.9, eta=15),\n",
    "    mutation=PM(eta=20)\n",
    ")"
   ]
  },
  {
   "cell_type": "code",
   "execution_count": 5,
   "id": "a731a2ed-81f1-4bec-a9ce-b866cfe14100",
   "metadata": {},
   "outputs": [],
   "source": [
    "# Define the problem\n",
    "problem = EVChargingProblem()"
   ]
  },
  {
   "cell_type": "code",
   "execution_count": 11,
   "id": "8d9ac125-d8ae-4393-a5f7-c935c2c4a9c6",
   "metadata": {},
   "outputs": [],
   "source": [
    "# Run optimization\n",
    "res = minimize(\n",
    "    problem,\n",
    "    algorithm,\n",
    "    ('n_gen', 200),  # Number of generations\n",
    "    seed=1,\n",
    "    verbose=False\n",
    ")"
   ]
  },
  {
   "cell_type": "code",
   "execution_count": 12,
   "id": "edd296fd-8649-4b87-ac95-8384fe3b8543",
   "metadata": {},
   "outputs": [],
   "source": [
    "# Extract results\n",
    "X = res.X  # Decision variables (p, x_1, ..., x_N)\n",
    "F = res.F  # Objective values (negated: -f1, -f2)\n",
    "F = -F  # Convert back to maximized form"
   ]
  },
  {
   "cell_type": "code",
   "execution_count": null,
   "id": "1cf343f9-512c-49b3-a99e-fe88e382e853",
   "metadata": {},
   "outputs": [],
   "source": []
  },
  {
   "cell_type": "code",
   "execution_count": 13,
   "id": "0e5a4292-5409-457c-937a-27af8ce3d75a",
   "metadata": {
    "scrolled": true
   },
   "outputs": [
    {
     "name": "stdout",
     "output_type": "stream",
     "text": [
      "Pareto-optimal solutions:\n",
      "Solution 1:\n",
      "  Price (p) = 49.71 USD/MWh\n",
      "  Demands (x_n) = [44.66406489 75.56193334 61.43371673 63.11199359 96.29881726]\n",
      "  SG Revenue = 16954.09\n",
      "  PEVG Total Utility = -19956.21\n",
      "  Total Demand = 341.07 MWh (Constraint: <= 99)\n",
      "\n",
      "Solution 2:\n",
      "  Price (p) = 49.58 USD/MWh\n",
      "  Demands (x_n) = [50.47292366 41.1866512  38.26072487 59.50135702 54.69900981]\n",
      "  SG Revenue = 12103.58\n",
      "  PEVG Total Utility = -10616.57\n",
      "  Total Demand = 244.12 MWh (Constraint: <= 99)\n",
      "\n",
      "Solution 3:\n",
      "  Price (p) = 43.22 USD/MWh\n",
      "  Demands (x_n) = [50.47292366 41.34040821 20.05147623 24.87358698 50.23930724]\n",
      "  SG Revenue = 8080.50\n",
      "  PEVG Total Utility = -5571.42\n",
      "  Total Demand = 186.98 MWh (Constraint: <= 99)\n",
      "\n",
      "Solution 4:\n",
      "  Price (p) = 17.69 USD/MWh\n",
      "  Demands (x_n) = [28.22802007 41.19466927 37.74670696 39.08813552 54.62499833]\n",
      "  SG Revenue = 3553.18\n",
      "  PEVG Total Utility = -745.77\n",
      "  Total Demand = 200.88 MWh (Constraint: <= 99)\n",
      "\n",
      "Solution 5:\n",
      "  Price (p) = 0.07 USD/MWh\n",
      "  Demands (x_n) = [25.82796001 23.16589424 19.67598998 25.31203971 50.68719375]\n",
      "  SG Revenue = 9.91\n",
      "  PEVG Total Utility = 3453.86\n",
      "  Total Demand = 144.67 MWh (Constraint: <= 99)\n",
      "\n"
     ]
    }
   ],
   "source": [
    "# Print solutions\n",
    "print(\"Pareto-optimal solutions:\")\n",
    "for i in range(len(X)):\n",
    "    p = X[i][0]\n",
    "    x = X[i][1:]\n",
    "    sg_revenue = F[i][0]\n",
    "    pevg_utility = F[i][1]\n",
    "    total_demand = np.sum(x)\n",
    "    print(f\"Solution {i+1}:\")\n",
    "    print(f\"  Price (p) = {p:.2f} USD/MWh\")\n",
    "    print(f\"  Demands (x_n) = {x}\")\n",
    "    print(f\"  SG Revenue = {sg_revenue:.2f}\")\n",
    "    print(f\"  PEVG Total Utility = {pevg_utility:.2f}\")\n",
    "    print(f\"  Total Demand = {total_demand:.2f} MWh (Constraint: <= {C})\")\n",
    "    print()"
   ]
  },
  {
   "cell_type": "code",
   "execution_count": 14,
   "id": "373ab323-a7b3-4daf-b1b8-9da359bbc69d",
   "metadata": {},
   "outputs": [],
   "source": [
    "# Post-process to approximate GSE\n",
    "# GSE: p* = min(b_n - s_n x_n^*)\n",
    "for i in range(len(X)):\n",
    "    x = X[i][1:]\n",
    "    p_star = np.min(b_n - s_n * x)\n",
    "    sg_revenue_star = p_star * np.sum(x)\n",
    "    pevg_utility_star = np.sum(b_n * x - 0.5 * s_n * x**2 - p_star * x)\n",
    "    if sg_revenue_star >= 0 and pevg_utility_star >= 0:  # Ensure feasible\n",
    "        print(f\"GSE Approximation for Solution {i+1}:\")\n",
    "        print(f\"  Adjusted Price (p*) = {p_star:.2f} USD/MWh\")\n",
    "        print(f\"  SG Revenue = {sg_revenue_star:.2f}\")\n",
    "        print(f\"  PEVG Total Utility = {pevg_utility_star:.2f}\")\n",
    "        print()\n"
   ]
  },
  {
   "cell_type": "code",
   "execution_count": 17,
   "id": "53cabaf7-5978-4840-8caf-915c07b92852",
   "metadata": {},
   "outputs": [],
   "source": [
    "import matplotlib.pyplot as plt"
   ]
  },
  {
   "cell_type": "code",
   "execution_count": 19,
   "id": "33c5f5be-cda0-4f90-ac99-942d39184289",
   "metadata": {},
   "outputs": [
    {
     "data": {
      "image/png": "[encoded data removed]",
      "text/plain": [
       "<Figure size 800x600 with 1 Axes>"
      ]
     },
     "metadata": {},
     "output_type": "display_data"
    }
   ],
   "source": [
    "\n",
    "# Visualize Pareto front\n",
    "plot = Scatter()\n",
    "plot.add(F, label=\"Pareto Front\")\n",
    "plot.show()\n",
    "plt.legend()\n",
    "plt.show()"
   ]
  }
 ],
 "metadata": {
  "kernelspec": {
   "display_name": "Python 3 (ipykernel)",
   "language": "python",
   "name": "python3"
  },
  "language_info": {
   "codemirror_mode": {
    "name": "ipython",
    "version": 3
   },
   "file_extension": ".py",
   "mimetype": "text/x-python",
   "name": "python",
   "nbconvert_exporter": "python",
   "pygments_lexer": "ipython3",
   "version": "3.12.4"
  }
 },
 "nbformat": 4,
 "nbformat_minor": 5
}
