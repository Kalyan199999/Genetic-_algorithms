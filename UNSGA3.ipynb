{
 "cells": [
  {
   "cell_type": "code",
   "execution_count": 1,
   "id": "e4c833c3-3a17-4dda-9e6f-66c363508c2d",
   "metadata": {},
   "outputs": [],
   "source": [
    "import numpy as np\n",
    "from pymoo.core.problem import ElementwiseProblem\n",
    "from pymoo.algorithms.moo.unsga3 import UNSGA3\n",
    "from pymoo.operators.crossover.sbx import SBX\n",
    "from pymoo.operators.mutation.pm import PM\n",
    "from pymoo.operators.sampling.rnd import FloatRandomSampling\n",
    "from pymoo.util.ref_dirs import get_reference_directions\n",
    "from pymoo.optimize import minimize\n",
    "from pymoo.visualization.scatter import Scatter\n",
    "\n",
    "import matplotlib.pyplot as plt"
   ]
  },
  {
   "cell_type": "code",
   "execution_count": 2,
   "id": "d95db992-aed8-4516-b481-c48c6b42860f",
   "metadata": {},
   "outputs": [],
   "source": [
    "# Problem parameters\n",
    "N = 5  # Number of PEVGs\n",
    "C = 99  # Grid capacity (MWh)\n",
    "b_n = np.random.uniform(35, 65, N)  # Battery capacities\n",
    "s_n = np.random.uniform(1, 2, N)    # Satisfaction parameters"
   ]
  },
  {
   "cell_type": "code",
   "execution_count": 3,
   "id": "03b56ba0-b786-4b66-af53-041efc1ba234",
   "metadata": {},
   "outputs": [],
   "source": [
    "# Define the multi-objective problem\n",
    "class EVChargingProblem(ElementwiseProblem):\n",
    "    def __init__(self):\n",
    "        super().__init__(\n",
    "            n_var=N + 1,  # p + x_1, x_2, ..., x_N\n",
    "            n_obj=2,       # Two objectives: SG revenue and PEVG utility\n",
    "            n_constr=1,    # One constraint: sum(x_n) <= C\n",
    "            xl=np.array([17] + [0] * N),  # Lower bounds: p >= 0, x_n >= 0\n",
    "            xu=np.array([50] + [C] * N)  # Upper bounds: p <= 50, x_n <= C\n",
    "        )\n",
    "\n",
    "    def _evaluate(self, X, out, *args, **kwargs):\n",
    "        p = X[0]  # Price\n",
    "        x = X[1:]  # Demands\n",
    "\n",
    "        # Objective 1: SG revenue (maximize)\n",
    "        f1 = p * np.sum(x)\n",
    "\n",
    "        # Objective 2: PEVG total utility (maximize)\n",
    "        f2 = np.sum(b_n * x - 0.5 * s_n * x**2 - p * x)\n",
    "\n",
    "        # Constraint: sum(x_n) <= C (g(x) <= 0)\n",
    "        g1 = np.sum(x) - C\n",
    "\n",
    "        # U-NSGA-III minimizes, so negate objectives to maximize\n",
    "        out[\"F\"] = [-f1, -f2]\n",
    "        out[\"G\"] = [g1]"
   ]
  },
  {
   "cell_type": "code",
   "execution_count": 4,
   "id": "9c1b265b-fc7e-4de5-b0c3-f6617181a8b8",
   "metadata": {},
   "outputs": [],
   "source": [
    "# Generate reference directions for 2 objectives\n",
    "ref_dirs = get_reference_directions(\"das-dennis\", 2, n_partitions=12)  # 91 points for 2 objectives"
   ]
  },
  {
   "cell_type": "code",
   "execution_count": 13,
   "id": "a9e36ca7-3d87-4c7d-b90f-9dd5e402aa7a",
   "metadata": {},
   "outputs": [],
   "source": [
    "class SavePopulationCallback:\n",
    "    def __init__(self):\n",
    "        self.pop_history = []\n",
    "\n",
    "    def notify(self, algorithm):\n",
    "        self.pop_history.append(algorithm.pop.copy())\n",
    "\n",
    "callback = SavePopulationCallback()"
   ]
  },
  {
   "cell_type": "code",
   "execution_count": 5,
   "id": "9b6f98d6-20a2-4bec-948d-fe79ee193487",
   "metadata": {},
   "outputs": [],
   "source": [
    "# Initialize U-NSGA-III algorithm\n",
    "algorithm = UNSGA3(\n",
    "    ref_dirs=ref_dirs,\n",
    "    pop_size=200,  # Population size\n",
    "    sampling=FloatRandomSampling(),\n",
    "    crossover=SBX(prob=0.9, eta=15),\n",
    "    mutation=PM(eta=20),\n",
    "    eliminate_duplicates=True\n",
    ")"
   ]
  },
  {
   "cell_type": "code",
   "execution_count": 6,
   "id": "53ee878a-100b-4667-a08e-ea869b674353",
   "metadata": {},
   "outputs": [],
   "source": [
    "# Define the problem\n",
    "problem = EVChargingProblem()"
   ]
  },
  {
   "cell_type": "code",
   "execution_count": 15,
   "id": "c9d7f801-3cd8-482f-b3cb-a8e92de1d77e",
   "metadata": {
    "scrolled": true
   },
   "outputs": [],
   "source": [
    "# Run optimization\n",
    "res = minimize(\n",
    "    problem,\n",
    "    algorithm,\n",
    "    ('n_gen', 200),  # Number of generations\n",
    "    seed=1,\n",
    "    verbose=False,\n",
    "    # callback=callback\n",
    ")"
   ]
  },
  {
   "cell_type": "code",
   "execution_count": 16,
   "id": "8f33ef0b-468b-488c-9b8a-8259c4e6f849",
   "metadata": {},
   "outputs": [],
   "source": [
    "X = res.X"
   ]
  },
  {
   "cell_type": "code",
   "execution_count": 19,
   "id": "928dc974-ced6-4f4e-83a0-7d6eeed1efe3",
   "metadata": {},
   "outputs": [],
   "source": [
    "F = -res.F"
   ]
  },
  {
   "cell_type": "code",
   "execution_count": 8,
   "id": "6823c9ea-40c4-4382-a3ab-df65492978ee",
   "metadata": {},
   "outputs": [],
   "source": [
    "# Extract final population (all 100 solutions)\n",
    "# final_pop = callback.pop_history[-1]  # Last generation\n",
    "# X = np.array([ind.X for ind in final_pop])  # All decision variables\n",
    "# F = np.array([ind.F for ind in final_pop])  # All objective values\n",
    "# F = -F  # Convert back to maximized form"
   ]
  },
  {
   "cell_type": "code",
   "execution_count": 20,
   "id": "0d490dd5-9560-4ae5-8d3a-d3f01aaf450e",
   "metadata": {},
   "outputs": [
    {
     "data": {
      "image/png": "[encoded data removed]",
      "text/plain": [
       "<Figure size 800x600 with 1 Axes>"
      ]
     },
     "metadata": {},
     "output_type": "display_data"
    }
   ],
   "source": [
    "plot = Scatter()\n",
    "plot.add(F, label=\"Pareto Front\")\n",
    "plot.show()\n",
    "plt.xlabel(\"Revenue\")\n",
    "plt.ylabel(\"Utility\")\n",
    "plt.title(\"utility vs Revenue\")\n",
    "plt.show()"
   ]
  },
  {
   "cell_type": "code",
   "execution_count": null,
   "id": "65e15c84-7739-4d45-b5a1-b97301cd38c9",
   "metadata": {},
   "outputs": [],
   "source": []
  },
  {
   "cell_type": "code",
   "execution_count": 22,
   "id": "0f5c0bc0-75f5-4819-a63b-c625d773251f",
   "metadata": {},
   "outputs": [],
   "source": [
    "\n",
    "# # Print solutions\n",
    "# print(\"Pareto-optimal solutions (Top 5):\")\n",
    "# for i in range(min(5, len(X))):\n",
    "#     p = X[i][0]\n",
    "#     x = X[i][1:]\n",
    "#     sg_revenue = F[i][0]\n",
    "#     pevg_utility = F[i][1]\n",
    "#     total_demand = np.sum(x)\n",
    "#     print(f\"Solution {i+1}:\")\n",
    "#     print(f\"  Price (p) = {p:.2f} USD/MWh\")\n",
    "#     print(f\"  Demands (x_n) = {x}\")\n",
    "#     print(f\"  SG Revenue = {sg_revenue:.2f}\")\n",
    "#     print(f\"  PEVG Total Utility = {pevg_utility:.2f}\")\n",
    "#     print(f\"  Total Demand = {total_demand:.2f} MWh (Constraint: <= {C})\")\n",
    "#     print()"
   ]
  },
  {
   "cell_type": "code",
   "execution_count": 21,
   "id": "807f4706-c590-46bf-b2f6-4ba4fce7520a",
   "metadata": {},
   "outputs": [],
   "source": [
    "# # Post-process to approximate GSE\n",
    "# # GSE: p* = min(b_n - s_n x_n^*)\n",
    "# print(\"GSE Approximations (Top 5):\")\n",
    "# for i in range(min(5, len(X))):\n",
    "#     x = X[i][1:]\n",
    "#     p_star = np.min(b_n - s_n * x)\n",
    "#     sg_revenue_star = p_star * np.sum(x)\n",
    "#     pevg_utility_star = np.sum(b_n * x - 0.5 * s_n * x**2 - p_star * x)\n",
    "#     if sg_revenue_star >= 0 and pevg_utility_star >= 0:  # Ensure feasible\n",
    "#         print(f\"Solution {i+1}:\")\n",
    "#         print(f\"  Adjusted Price (p*) = {p_star:.2f} USD/MWh\")\n",
    "#         print(f\"  SG Revenue = {sg_revenue_star:.2f}\")\n",
    "#         print(f\"  PEVG Total Utility = {pevg_utility_star:.2f}\")\n",
    "#         print()"
   ]
  }
 ],
 "metadata": {
  "kernelspec": {
   "display_name": "Python 3 (ipykernel)",
   "language": "python",
   "name": "python3"
  },
  "language_info": {
   "codemirror_mode": {
    "name": "ipython",
    "version": 3
   },
   "file_extension": ".py",
   "mimetype": "text/x-python",
   "name": "python",
   "nbconvert_exporter": "python",
   "pygments_lexer": "ipython3",
   "version": "3.12.4"
  }
 },
 "nbformat": 4,
 "nbformat_minor": 5
}
